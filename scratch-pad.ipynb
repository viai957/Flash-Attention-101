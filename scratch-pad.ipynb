{
 "cells": [
  {
   "cell_type": "markdown",
   "metadata": {},
   "source": [
    "### Conventional Softmax"
   ]
  },
  {
   "cell_type": "markdown",
   "metadata": {},
   "source": [
    "#### Pseudocode\n",
    "\n",
    "\\section*{Pseudocode}\n",
    "\n",
    "1. Initialize \\( M_0 = -infty \\)\n",
    "2. For \\( i = 1 \\) to \\( N \\):\n",
    "    \\[\n",
    "        M_i = max(M_{i-1}, X_i)\n",
    "    \\]\n",
    "3. Initialize \\( L_0 = 0 \\)\n",
    "4. For \\( J = 1 \\) to \\( N \\):\n",
    "    \\[\n",
    "        L_J = L_{J-1} + e^{X_J - M_N}\n",
    "    \\]\n",
    "5. For \\( k = 1 \\) to \\( N \\):\n",
    "    \\[\n",
    "        X_k \\gets \\frac{e^{X_k - M_N}}{L_N}\n",
    "    \\]"
   ]
  },
  {
   "cell_type": "code",
   "execution_count": 12,
   "metadata": {},
   "outputs": [
    {
     "data": {
      "text/plain": [
       "tensor([[2., 6., 5., 0., 2., 8., 0., 0., 4., 1.]])"
      ]
     },
     "execution_count": 12,
     "metadata": {},
     "output_type": "execute_result"
    }
   ],
   "source": [
    "# Conventional Softmax\n",
    "import torch\n",
    "\n",
    "tensor = torch.randint(0, 10, (1, 10)).float()\n",
    "tensor"
   ]
  },
  {
   "cell_type": "code",
   "execution_count": 2,
   "metadata": {},
   "outputs": [
    {
     "name": "stdout",
     "output_type": "stream",
     "text": [
      "6.0\n",
      "9.0\n",
      "9.0\n",
      "9.0\n",
      "9.0\n",
      "9.0\n",
      "9.0\n",
      "9.0\n",
      "9.0\n",
      "9.0\n"
     ]
    }
   ],
   "source": [
    "# Finding the maximum value\n",
    "m = float(-torch.inf)\n",
    "for x in tensor[0]:\n",
    "    m = max(m, x.item())\n",
    "    print(m)"
   ]
  },
  {
   "cell_type": "code",
   "execution_count": 3,
   "metadata": {},
   "outputs": [
    {
     "name": "stdout",
     "output_type": "stream",
     "text": [
      "0.049787066876888275\n",
      "1.0497870668768883\n",
      "1.0501225295010954\n",
      "1.0510344114736654\n",
      "2.0510344114736654\n",
      "2.0577723584719934\n",
      "2.1075594253488816\n",
      "2.15734649222577\n",
      "2.159825244511012\n",
      "2.162303996796254\n"
     ]
    }
   ],
   "source": [
    "# Computhing the normalization factor\n",
    "l = 0\n",
    "for x in tensor[0]:\n",
    "    l += torch.exp(x - m).item()\n",
    "    print(l)"
   ]
  },
  {
   "cell_type": "code",
   "execution_count": 4,
   "metadata": {},
   "outputs": [],
   "source": [
    "# Applying the softmax to each element\n",
    "softmax_row = [(torch.exp(x - m)/l).item() for x in tensor[0]]\n",
    "result = []\n",
    "result.append(softmax_row)"
   ]
  },
  {
   "cell_type": "code",
   "execution_count": 5,
   "metadata": {},
   "outputs": [
    {
     "data": {
      "text/plain": [
       "[[0.02302500791847706,\n",
       "  0.4624696671962738,\n",
       "  0.00015514128608629107,\n",
       "  0.0004217177629470825,\n",
       "  0.4624696671962738,\n",
       "  0.0031160961370915174,\n",
       "  0.02302500791847706,\n",
       "  0.02302500791847706,\n",
       "  0.0011463477276265621,\n",
       "  0.0011463477276265621]]"
      ]
     },
     "execution_count": 5,
     "metadata": {},
     "output_type": "execute_result"
    }
   ],
   "source": [
    "result"
   ]
  },
  {
   "cell_type": "code",
   "execution_count": 6,
   "metadata": {},
   "outputs": [
    {
     "name": "stdout",
     "output_type": "stream",
     "text": [
      "Input Tensor: tensor([[9., 2., 9., 5., 0., 4., 6., 7., 3., 0.]])\n",
      "Softmax Result: [[0.4517092704772949, 0.00041190555202774704, 0.4517092704772949, 0.008273344486951828, 5.5745353165548295e-05, 0.0030435931403189898, 0.022489279508590698, 0.06113220006227493, 0.0011196753475815058, 5.5745353165548295e-05]]\n"
     ]
    }
   ],
   "source": [
    "# Consolidated Function \n",
    "from typing import List, Optional, Union, Tuple\n",
    "import torch\n",
    "from typing import List\n",
    "\n",
    "def softmax_row(tensor: torch.Tensor) -> List[List[float]]:\n",
    "    \"\"\"\n",
    "    Computes the softmax for a single row tensor.\n",
    "    Args:\n",
    "        tensor (torch.Tensor): Input tensor of shape (1, N).\n",
    "\n",
    "    Returns:\n",
    "        List[List[float]]: Softmax values for the row as a nested list.\n",
    "    \"\"\"\n",
    "    m = float('-inf')  # Initialize max value\n",
    "    results = []\n",
    "\n",
    "    # Step 1: Compute the maximum value in the row\n",
    "    for x in tensor[0]:\n",
    "        m = max(m, x.item())\n",
    "\n",
    "    # Step 2: Compute the normalization factor (denominator)\n",
    "    l = 0\n",
    "    for x in tensor[0]:\n",
    "        l += torch.exp(x - m).item()\n",
    "\n",
    "    # Step 3: Compute softmax for each element in the row\n",
    "    softmax_row = [(torch.exp(x - m) / l).item() for x in tensor[0]]\n",
    "    results.append(softmax_row)\n",
    "\n",
    "    return results\n",
    "\n",
    "# Example usage\n",
    "tensor = torch.randint(0, 10, (1, 10)).float()\n",
    "softmax_result = softmax_row(tensor)\n",
    "print(\"Input Tensor:\", tensor)\n",
    "print(\"Softmax Result:\", softmax_result)\n"
   ]
  },
  {
   "cell_type": "code",
   "execution_count": 7,
   "metadata": {},
   "outputs": [
    {
     "data": {
      "text/plain": [
       "[[0.023640543222427368,\n",
       "  0.06426165997982025,\n",
       "  0.17468130588531494,\n",
       "  0.47483301162719727,\n",
       "  0.023640543222427368,\n",
       "  0.06426165997982025,\n",
       "  0.17468130588531494]]"
      ]
     },
     "execution_count": 7,
     "metadata": {},
     "output_type": "execute_result"
    }
   ],
   "source": [
    "t1 = torch.tensor([[1, 2, 3, 4, 1, 2, 3]])\n",
    "softmax_row(t1)"
   ]
  },
  {
   "cell_type": "code",
   "execution_count": null,
   "metadata": {},
   "outputs": [],
   "source": []
  },
  {
   "cell_type": "markdown",
   "metadata": {},
   "source": [
    "## Safe Softmax\n",
    "#### Pseudocode\n",
    "\n",
    "1. Initialize \\( m_0 = -\\infty \\), \\( l_0 = 0 \\)\n",
    "2. For \\( i = 1 \\) to \\( N \\):\n",
    "    - Compute \\( m_i = \\max(m_{i-1}, X_i) \\)\n",
    "    - Compute \\( l_i = l_{i-1} \\cdot e^{m_{i-1} - m_i} + e^{X_i - m_i} \\)\n",
    "3. For \\( k = 1 \\) to \\( N \\):\n",
    "    - Compute \\( X_k \\gets \\frac{e^{X_k - m_N}}{l_N} \\)\n"
   ]
  },
  {
   "cell_type": "code",
   "execution_count": 8,
   "metadata": {},
   "outputs": [
    {
     "data": {
      "text/plain": [
       "tensor([[5., 2., 0., 6., 0., 8., 6., 4., 7., 6.]])"
      ]
     },
     "execution_count": 8,
     "metadata": {},
     "output_type": "execute_result"
    }
   ],
   "source": [
    "# Rigged Softmax\n",
    "import torch\n",
    "\n",
    "tensor = torch.randint(0, 10, (1, 10)).float()\n",
    "tensor"
   ]
  },
  {
   "cell_type": "code",
   "execution_count": 9,
   "metadata": {},
   "outputs": [
    {
     "data": {
      "text/plain": [
       "[[0.026982846539221398,\n",
       "  0.0013433969244828043,\n",
       "  0.00018180899330761034,\n",
       "  0.0733469826782807,\n",
       "  0.00018180899330761034,\n",
       "  0.5419649766864885,\n",
       "  0.0733469826782807,\n",
       "  0.009926435051607186,\n",
       "  0.199377777716766,\n",
       "  0.0733469826782807]]"
      ]
     },
     "execution_count": 9,
     "metadata": {},
     "output_type": "execute_result"
    }
   ],
   "source": [
    "# Find the local maximum\n",
    "m_prev = float(-torch.inf) \n",
    "l_prev = 0\n",
    "results = [] \n",
    "for i in tensor[0]: \n",
    "    m_curr = max(m_prev, i)\n",
    "    l_curr = l_prev * torch.exp(m_prev - m_curr).item() + torch.exp(i - m_curr).item()\n",
    "    m_prev = m_curr\n",
    "    l_prev = l_curr\n",
    "\n",
    "softmax_row = [torch.exp(x - m_prev).item() / l_prev for x in tensor[0]]\n",
    "results.append(softmax_row)\n",
    "results "
   ]
  },
  {
   "cell_type": "code",
   "execution_count": 10,
   "metadata": {},
   "outputs": [],
   "source": [
    "def softmax_new(tensor: torch.Tensor) -> List[List[torch.Tensor]]:\n",
    "    m_prev = float(-torch.inf)\n",
    "    l_prev = 0\n",
    "    results = []\n",
    "    for i in tensor[0]:\n",
    "        m_curr = max(m_prev, i)\n",
    "        l_curr = l_prev * torch.exp(m_prev - m_curr).item() + torch.exp(i - m_curr).item()\n",
    "        m_prev = m_curr\n",
    "        l_prev = l_curr\n",
    "\n",
    "    softmax_row = [torch.exp(x - m_prev).item() / l_prev for x in tensor[0]]\n",
    "    results.append(softmax_row)\n",
    "    return results"
   ]
  },
  {
   "cell_type": "code",
   "execution_count": null,
   "metadata": {},
   "outputs": [
    {
     "data": {
      "text/plain": [
       "[[0.02364054202726851,\n",
       "  0.06426165690335149,\n",
       "  0.17468130082440936,\n",
       "  0.47483299399271744,\n",
       "  0.02364054202726851,\n",
       "  0.06426165690335149,\n",
       "  0.17468130082440936]]"
      ]
     },
     "execution_count": 42,
     "metadata": {},
     "output_type": "execute_result"
    }
   ],
   "source": [
    "softmax_new(t1)"
   ]
  },
  {
   "cell_type": "code",
   "execution_count": null,
   "metadata": {},
   "outputs": [
    {
     "data": {
      "text/plain": [
       "torch.Size([1, 2])"
      ]
     },
     "execution_count": 17,
     "metadata": {},
     "output_type": "execute_result"
    }
   ],
   "source": [
    "import torch\n",
    "BATCH_SIZE = 8 \n",
    "SEQ_LEN = 10 \n",
    "NUM_HEADS = 12\n",
    "HEAD_DIM = 128\n",
    "a1  = torch.tensor([[SEQ_LEN, BATCH_SIZE * NUM_HEADS]])\n",
    "grid = torch.zeros_like(a1)\n",
    "grid.shape"
   ]
  },
  {
   "cell_type": "code",
   "execution_count": null,
   "metadata": {},
   "outputs": [
    {
     "data": {
      "text/plain": [
       "torch.Size([8, 12, 10, 128])"
      ]
     },
     "execution_count": 13,
     "metadata": {},
     "output_type": "execute_result"
    }
   ],
   "source": [
    "Q = torch.randn(BATCH_SIZE, NUM_HEADS, SEQ_LEN, HEAD_DIM, dtype=torch.float16)\n",
    "K = torch.randn(BATCH_SIZE, NUM_HEADS, SEQ_LEN, HEAD_DIM, dtype=torch.float16)\n",
    "V = torch.randn(BATCH_SIZE, NUM_HEADS, SEQ_LEN, HEAD_DIM, dtype=torch.float16)\n",
    "Q.shape"
   ]
  },
  {
   "cell_type": "code",
   "execution_count": null,
   "metadata": {},
   "outputs": [
    {
     "name": "stdout",
     "output_type": "stream",
     "text": [
      "tensor([[[0.],\n",
      "         [0.],\n",
      "         [0.],\n",
      "         [0.],\n",
      "         [0.],\n",
      "         [0.],\n",
      "         [0.],\n",
      "         [0.],\n",
      "         [0.],\n",
      "         [0.],\n",
      "         [0.],\n",
      "         [0.],\n",
      "         [0.],\n",
      "         [0.],\n",
      "         [0.],\n",
      "         [0.],\n",
      "         [0.],\n",
      "         [0.],\n",
      "         [0.],\n",
      "         [0.],\n",
      "         [0.],\n",
      "         [0.],\n",
      "         [0.],\n",
      "         [0.],\n",
      "         [0.],\n",
      "         [0.],\n",
      "         [0.],\n",
      "         [0.],\n",
      "         [0.],\n",
      "         [0.],\n",
      "         [0.],\n",
      "         [0.],\n",
      "         [0.],\n",
      "         [0.],\n",
      "         [0.],\n",
      "         [0.],\n",
      "         [0.],\n",
      "         [0.],\n",
      "         [0.],\n",
      "         [0.],\n",
      "         [0.],\n",
      "         [0.],\n",
      "         [0.],\n",
      "         [0.],\n",
      "         [0.],\n",
      "         [0.],\n",
      "         [0.],\n",
      "         [0.],\n",
      "         [0.],\n",
      "         [0.],\n",
      "         [0.],\n",
      "         [0.],\n",
      "         [0.],\n",
      "         [0.],\n",
      "         [0.],\n",
      "         [0.],\n",
      "         [0.],\n",
      "         [0.],\n",
      "         [0.],\n",
      "         [0.],\n",
      "         [0.],\n",
      "         [0.],\n",
      "         [0.],\n",
      "         [0.],\n",
      "         [0.],\n",
      "         [0.],\n",
      "         [0.],\n",
      "         [0.],\n",
      "         [0.],\n",
      "         [0.],\n",
      "         [0.],\n",
      "         [0.],\n",
      "         [0.],\n",
      "         [0.],\n",
      "         [0.],\n",
      "         [0.],\n",
      "         [0.],\n",
      "         [0.],\n",
      "         [0.],\n",
      "         [0.],\n",
      "         [0.],\n",
      "         [0.],\n",
      "         [0.],\n",
      "         [0.],\n",
      "         [0.],\n",
      "         [0.],\n",
      "         [0.],\n",
      "         [0.],\n",
      "         [0.],\n",
      "         [0.],\n",
      "         [0.],\n",
      "         [0.],\n",
      "         [0.],\n",
      "         [0.],\n",
      "         [0.],\n",
      "         [0.]],\n",
      "\n",
      "        [[0.],\n",
      "         [0.],\n",
      "         [0.],\n",
      "         [0.],\n",
      "         [0.],\n",
      "         [0.],\n",
      "         [0.],\n",
      "         [0.],\n",
      "         [0.],\n",
      "         [0.],\n",
      "         [0.],\n",
      "         [0.],\n",
      "         [0.],\n",
      "         [0.],\n",
      "         [0.],\n",
      "         [0.],\n",
      "         [0.],\n",
      "         [0.],\n",
      "         [0.],\n",
      "         [0.],\n",
      "         [0.],\n",
      "         [0.],\n",
      "         [0.],\n",
      "         [0.],\n",
      "         [0.],\n",
      "         [0.],\n",
      "         [0.],\n",
      "         [0.],\n",
      "         [0.],\n",
      "         [0.],\n",
      "         [0.],\n",
      "         [0.],\n",
      "         [0.],\n",
      "         [0.],\n",
      "         [0.],\n",
      "         [0.],\n",
      "         [0.],\n",
      "         [0.],\n",
      "         [0.],\n",
      "         [0.],\n",
      "         [0.],\n",
      "         [0.],\n",
      "         [0.],\n",
      "         [0.],\n",
      "         [0.],\n",
      "         [0.],\n",
      "         [0.],\n",
      "         [0.],\n",
      "         [0.],\n",
      "         [0.],\n",
      "         [0.],\n",
      "         [0.],\n",
      "         [0.],\n",
      "         [0.],\n",
      "         [0.],\n",
      "         [0.],\n",
      "         [0.],\n",
      "         [0.],\n",
      "         [0.],\n",
      "         [0.],\n",
      "         [0.],\n",
      "         [0.],\n",
      "         [0.],\n",
      "         [0.],\n",
      "         [0.],\n",
      "         [0.],\n",
      "         [0.],\n",
      "         [0.],\n",
      "         [0.],\n",
      "         [0.],\n",
      "         [0.],\n",
      "         [0.],\n",
      "         [0.],\n",
      "         [0.],\n",
      "         [0.],\n",
      "         [0.],\n",
      "         [0.],\n",
      "         [0.],\n",
      "         [0.],\n",
      "         [0.],\n",
      "         [0.],\n",
      "         [0.],\n",
      "         [0.],\n",
      "         [0.],\n",
      "         [0.],\n",
      "         [0.],\n",
      "         [0.],\n",
      "         [0.],\n",
      "         [0.],\n",
      "         [0.],\n",
      "         [0.],\n",
      "         [0.],\n",
      "         [0.],\n",
      "         [0.],\n",
      "         [0.],\n",
      "         [0.]],\n",
      "\n",
      "        [[0.],\n",
      "         [0.],\n",
      "         [0.],\n",
      "         [0.],\n",
      "         [0.],\n",
      "         [0.],\n",
      "         [0.],\n",
      "         [0.],\n",
      "         [0.],\n",
      "         [0.],\n",
      "         [0.],\n",
      "         [0.],\n",
      "         [0.],\n",
      "         [0.],\n",
      "         [0.],\n",
      "         [0.],\n",
      "         [0.],\n",
      "         [0.],\n",
      "         [0.],\n",
      "         [0.],\n",
      "         [0.],\n",
      "         [0.],\n",
      "         [0.],\n",
      "         [0.],\n",
      "         [0.],\n",
      "         [0.],\n",
      "         [0.],\n",
      "         [0.],\n",
      "         [0.],\n",
      "         [0.],\n",
      "         [0.],\n",
      "         [0.],\n",
      "         [0.],\n",
      "         [0.],\n",
      "         [0.],\n",
      "         [0.],\n",
      "         [0.],\n",
      "         [0.],\n",
      "         [0.],\n",
      "         [0.],\n",
      "         [0.],\n",
      "         [0.],\n",
      "         [0.],\n",
      "         [0.],\n",
      "         [0.],\n",
      "         [0.],\n",
      "         [0.],\n",
      "         [0.],\n",
      "         [0.],\n",
      "         [0.],\n",
      "         [0.],\n",
      "         [0.],\n",
      "         [0.],\n",
      "         [0.],\n",
      "         [0.],\n",
      "         [0.],\n",
      "         [0.],\n",
      "         [0.],\n",
      "         [0.],\n",
      "         [0.],\n",
      "         [0.],\n",
      "         [0.],\n",
      "         [0.],\n",
      "         [0.],\n",
      "         [0.],\n",
      "         [0.],\n",
      "         [0.],\n",
      "         [0.],\n",
      "         [0.],\n",
      "         [0.],\n",
      "         [0.],\n",
      "         [0.],\n",
      "         [0.],\n",
      "         [0.],\n",
      "         [0.],\n",
      "         [0.],\n",
      "         [0.],\n",
      "         [0.],\n",
      "         [0.],\n",
      "         [0.],\n",
      "         [0.],\n",
      "         [0.],\n",
      "         [0.],\n",
      "         [0.],\n",
      "         [0.],\n",
      "         [0.],\n",
      "         [0.],\n",
      "         [0.],\n",
      "         [0.],\n",
      "         [0.],\n",
      "         [0.],\n",
      "         [0.],\n",
      "         [0.],\n",
      "         [0.],\n",
      "         [0.],\n",
      "         [0.]]])\n"
     ]
    }
   ],
   "source": [
    "grid = lambda args: (\n",
    "    (SEQ_LEN + args[\"BLOCK_SIZE_Q\"]-1) // args[\"BLOCK_SIZE_Q\"],\n",
    "    BATCH_SIZE * NUM_HEADS,\n",
    "    1,\n",
    ")\n",
    "\n",
    "args = {\"BLOCK_SIZE_Q\": 4}\n",
    "grid_shape = grid(args)\n",
    "grid_tensor = torch.zeros(grid_shape)\n",
    "print(grid_tensor)"
   ]
  },
  {
   "cell_type": "code",
   "execution_count": null,
   "metadata": {},
   "outputs": [
    {
     "data": {
      "text/plain": [
       "tensor([ 0,  1,  2,  3,  4,  5,  6,  7,  8,  9, 10, 11, 12, 13, 14, 15, 16, 17,\n",
       "        18, 19, 20, 21, 22, 23, 24, 25, 26, 27, 28, 29, 30, 31, 32, 33, 34, 35,\n",
       "        36, 37, 38, 39, 40, 41, 42, 43, 44, 45, 46, 47, 48, 49, 50, 51, 52, 53,\n",
       "        54, 55, 56, 57, 58, 59, 60, 61, 62, 63, 64, 65, 66, 67, 68, 69, 70, 71,\n",
       "        72, 73, 74, 75, 76, 77, 78, 79, 80, 81, 82, 83, 84, 85, 86, 87, 88, 89,\n",
       "        90, 91, 92, 93, 94, 95])"
      ]
     },
     "execution_count": 22,
     "metadata": {},
     "output_type": "execute_result"
    }
   ],
   "source": [
    "block_index_q = grid(args)[0]\n",
    "block_index_q\n",
    "\n",
    "index_batch_head = torch.arange(BATCH_SIZE * NUM_HEADS)\n",
    "index_batch_head"
   ]
  },
  {
   "cell_type": "code",
   "execution_count": null,
   "metadata": {},
   "outputs": [],
   "source": [
    "qkv_offset = torch.arange(0, SEQ_LEN, args[\"BLOCK_SIZE_Q\"])"
   ]
  }
 ],
 "metadata": {
  "kernelspec": {
   "display_name": "pytorch",
   "language": "python",
   "name": "python3"
  },
  "language_info": {
   "codemirror_mode": {
    "name": "ipython",
    "version": 3
   },
   "file_extension": ".py",
   "mimetype": "text/x-python",
   "name": "python",
   "nbconvert_exporter": "python",
   "pygments_lexer": "ipython3",
   "version": "3.10.14"
  }
 },
 "nbformat": 4,
 "nbformat_minor": 2
}
